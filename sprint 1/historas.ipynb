{
 "cells": [
  {
   "cell_type": "markdown",
   "metadata": {},
   "source": [
    "<h1>Historas de Usuario</h1>"
   ]
  },
  {
   "cell_type": "markdown",
   "metadata": {},
   "source": [
    "ID:1<br>\n",
    "Nombre: Registro de datos<br>\n",
    "Prioridad en Negocio: alta\tIteración Asignada:  <br>\n",
    "rol: Yo como usuario<br>\n",
    "funcionalidad: Quiero registrar mis datos con el fin de realizar una compra<br>\n",
    "Criterio de Aceptación:<br>\n",
    "●        El usuario debe proporcionar el correo electrónico<br>\n",
    "●        El usuario debe proporcionar una contraseña"
   ]
  },
  {
   "cell_type": "markdown",
   "metadata": {},
   "source": [
    "\n",
    "ID:2<br>\t\n",
    "Nombre: Creación de categorías<br>\n",
    "Prioridad en Negocio: alta\tIteración Asignada:<br>\n",
    "rol: Yo como usuario administrador, vendedor, gestor de inventario o cliente<br>\n",
    "funcionalidad: necesito poder listar los artículos<br>\n",
    "Criterio de Aceptación:<br>\n",
    "●   El administrador selecciona la acción de ver listado de artículos y el sistema muestra el listado de artículos<br>\n",
    "●      El sistema no tiene artículos\n"
   ]
  },
  {
   "cell_type": "markdown",
   "metadata": {},
   "source": [
    "\n",
    "ID:3<br>\t\n",
    "Nombre: Interacción cliente vendedor<br>\n",
    "Prioridad en Negocio: alta\tIteración Asignada:<br>\n",
    "rol: Yo como usuario cliente/usuario, vendedor <br>\n",
    "funcionalidad: necesito poder interactuar con un vendedor<br>\n",
    "Criterio de Aceptación:<br>\n",
    "●   El usuario al mirar el producto de su interés será redireccionado hacia el contacto del vendedor\n"
   ]
  },
  {
   "cell_type": "markdown",
   "metadata": {},
   "source": [
    "\n",
    "ID:4<br>\n",
    "Nombre: Interacción frontend y backend<br>\n",
    "Prioridad en Negocio: alta\tIteración Asignada:<br>\n",
    "rol: Yo como miembro del equipo de desarrollo, frontend <br>\n",
    "funcionalidad: necesito que los datos ingresados desde la aplicación web puedan ser almacenados en una base de datos.<br>\n",
    "Criterio de Aceptación:<br>\n",
    "●  La base de datos debe permitir consultas para que el administrador pueda extraer información para un reporte de ventas. \n"
   ]
  }
 ],
 "metadata": {
  "kernelspec": {
   "display_name": "Python 3.10.6 64-bit",
   "language": "python",
   "name": "python3"
  },
  "language_info": {
   "name": "python",
   "version": "3.10.6"
  },
  "orig_nbformat": 4,
  "vscode": {
   "interpreter": {
    "hash": "5927e59556f7b477e203d6ce0405e0c8ddeeef592f74ec9857055227cb3dd149"
   }
  }
 },
 "nbformat": 4,
 "nbformat_minor": 2
}
